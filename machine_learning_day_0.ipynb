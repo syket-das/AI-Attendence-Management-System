{
  "nbformat": 4,
  "nbformat_minor": 0,
  "metadata": {
    "colab": {
      "provenance": [],
      "gpuType": "T4",
      "authorship_tag": "ABX9TyPkt2GdrHN9qOGUXRpQuGMj",
      "include_colab_link": true
    },
    "kernelspec": {
      "name": "python3",
      "display_name": "Python 3"
    },
    "language_info": {
      "name": "python"
    }
  },
  "cells": [
    {
      "cell_type": "markdown",
      "metadata": {
        "id": "view-in-github",
        "colab_type": "text"
      },
      "source": [
        "<a href=\"https://colab.research.google.com/github/syket-das/AI-Attendence-Management-System/blob/main/machine_learning_day_0.ipynb\" target=\"_parent\"><img src=\"https://colab.research.google.com/assets/colab-badge.svg\" alt=\"Open In Colab\"/></a>"
      ]
    },
    {
      "cell_type": "code",
      "execution_count": 1,
      "metadata": {
        "id": "-kTzw7f81kTt"
      },
      "outputs": [],
      "source": [
        "import numpy as np"
      ]
    },
    {
      "cell_type": "code",
      "source": [
        "a = np.array([[1,0,0],[0,1,0],[1,0,1]])\n",
        "a"
      ],
      "metadata": {
        "colab": {
          "base_uri": "https://localhost:8080/"
        },
        "id": "_P9Kyddo1yXr",
        "outputId": "867c8baa-23a3-4a23-89ef-b3ee87c3a912"
      },
      "execution_count": 2,
      "outputs": [
        {
          "output_type": "execute_result",
          "data": {
            "text/plain": [
              "array([[1, 0, 0],\n",
              "       [0, 1, 0],\n",
              "       [1, 0, 1]])"
            ]
          },
          "metadata": {},
          "execution_count": 2
        }
      ]
    },
    {
      "cell_type": "code",
      "source": [
        "b = np.array([[1,1,0],[1,2,1],[0,1,2]])\n",
        "b"
      ],
      "metadata": {
        "colab": {
          "base_uri": "https://localhost:8080/"
        },
        "id": "uqZbY4hv2ZOg",
        "outputId": "bb25bfcc-75a7-4fa8-dbd5-899289f39286"
      },
      "execution_count": 3,
      "outputs": [
        {
          "output_type": "execute_result",
          "data": {
            "text/plain": [
              "array([[1, 1, 0],\n",
              "       [1, 2, 1],\n",
              "       [0, 1, 2]])"
            ]
          },
          "metadata": {},
          "execution_count": 3
        }
      ]
    },
    {
      "cell_type": "code",
      "source": [
        "c = np.matmul(b,a)\n",
        "c"
      ],
      "metadata": {
        "colab": {
          "base_uri": "https://localhost:8080/"
        },
        "id": "IWyCqO1U27JI",
        "outputId": "caedf74a-70de-469d-c32b-bc4732581101"
      },
      "execution_count": 4,
      "outputs": [
        {
          "output_type": "execute_result",
          "data": {
            "text/plain": [
              "array([[1, 1, 0],\n",
              "       [2, 2, 1],\n",
              "       [2, 1, 2]])"
            ]
          },
          "metadata": {},
          "execution_count": 4
        }
      ]
    },
    {
      "cell_type": "code",
      "source": [
        "print(a==b)"
      ],
      "metadata": {
        "colab": {
          "base_uri": "https://localhost:8080/"
        },
        "id": "1O3C3wdI43FH",
        "outputId": "51daa61e-94bf-4c0f-94d4-c383e1707e5b"
      },
      "execution_count": 5,
      "outputs": [
        {
          "output_type": "stream",
          "name": "stdout",
          "text": [
            "[[ True False  True]\n",
            " [False False False]\n",
            " [False False False]]\n"
          ]
        }
      ]
    },
    {
      "cell_type": "code",
      "source": [
        "x = [[2,3,4],[1,2,3],[3,2,1]]\n",
        "\n",
        "y = [[2,3,4],[1,2,3],[3,2,1]]"
      ],
      "metadata": {
        "id": "WHWTUGps5m3F"
      },
      "execution_count": 6,
      "outputs": []
    },
    {
      "cell_type": "code",
      "source": [
        "sum = [[0,0,0],[0,0,0],[0,0,0]]\n",
        "\n",
        "print('before',sum)\n",
        "\n",
        "for i in range(len(x)):\n",
        "  for j in range(len(y)):\n",
        "    sum[i][j] = x[i][j] + y[i][j]\n",
        "\n",
        "sum"
      ],
      "metadata": {
        "colab": {
          "base_uri": "https://localhost:8080/"
        },
        "id": "Q9syxj0V52Cj",
        "outputId": "06052972-fe20-4b17-8135-24b2f252c5ca"
      },
      "execution_count": 8,
      "outputs": [
        {
          "output_type": "stream",
          "name": "stdout",
          "text": [
            "before [[0, 0, 0], [0, 0, 0], [0, 0, 0]]\n"
          ]
        },
        {
          "output_type": "execute_result",
          "data": {
            "text/plain": [
              "[[4, 6, 8], [2, 4, 6], [6, 4, 2]]"
            ]
          },
          "metadata": {},
          "execution_count": 8
        }
      ]
    },
    {
      "cell_type": "code",
      "source": [],
      "metadata": {
        "id": "F7jbnJaZ6PLj"
      },
      "execution_count": 7,
      "outputs": []
    }
  ]
}